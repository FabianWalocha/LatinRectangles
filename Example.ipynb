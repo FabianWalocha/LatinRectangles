{
 "cells": [
  {
   "cell_type": "code",
   "execution_count": 3,
   "metadata": {
    "scrolled": true
   },
   "outputs": [
    {
     "name": "stdout",
     "output_type": "stream",
     "text": [
      "In sequence:\n",
      "[[ 0. 10. 11. 10. 10.  9.]\n",
      " [10.  0.  9. 10. 10. 11.]\n",
      " [10. 10.  0. 10. 10. 10.]\n",
      " [10. 10. 10.  0. 10. 10.]\n",
      " [10. 10. 10. 10.  0. 10.]\n",
      " [10. 10. 10. 10. 10.  0.]]\n",
      "\n",
      "In position:\n",
      "[[8. 7. 9. 9. 8. 9.]\n",
      " [8. 9. 8. 8. 8. 9.]\n",
      " [8. 8. 9. 9. 8. 8.]\n",
      " [9. 9. 8. 8. 8. 8.]\n",
      " [9. 8. 8. 8. 9. 8.]\n",
      " [8. 9. 8. 8. 9. 8.]]\n",
      "\n"
     ]
    },
    {
     "data": {
      "text/plain": [
       "[[4, 3, 0, 5, 1, 2],\n",
       " [2, 0, 3, 1, 4, 5],\n",
       " [0, 2, 1, 3, 5, 4],\n",
       " [3, 4, 2, 5, 0, 1],\n",
       " [4, 1, 5, 3, 2, 0],\n",
       " [1, 0, 4, 2, 3, 5],\n",
       " [1, 5, 2, 4, 0, 3],\n",
       " [5, 4, 3, 0, 1, 2],\n",
       " [2, 3, 4, 1, 5, 0],\n",
       " [3, 2, 1, 0, 4, 5],\n",
       " [0, 5, 1, 4, 2, 3],\n",
       " [3, 1, 0, 2, 5, 4],\n",
       " [1, 4, 5, 0, 3, 2],\n",
       " [2, 0, 5, 3, 4, 1],\n",
       " [5, 2, 4, 0, 1, 3],\n",
       " [4, 5, 2, 1, 3, 0],\n",
       " [5, 3, 4, 2, 0, 1],\n",
       " [0, 2, 3, 5, 1, 4],\n",
       " [4, 1, 0, 3, 2, 5],\n",
       " [2, 5, 0, 4, 3, 1],\n",
       " [5, 1, 3, 2, 4, 0],\n",
       " [3, 0, 1, 5, 2, 4],\n",
       " [1, 4, 2, 0, 5, 3],\n",
       " [0, 3, 5, 4, 1, 2],\n",
       " [3, 4, 5, 1, 0, 2],\n",
       " [5, 0, 2, 1, 4, 3],\n",
       " [1, 2, 3, 4, 5, 0],\n",
       " [2, 1, 0, 5, 3, 4],\n",
       " [0, 4, 1, 3, 2, 5],\n",
       " [5, 2, 4, 0, 3, 1],\n",
       " [4, 3, 1, 2, 0, 5],\n",
       " [1, 5, 2, 3, 0, 4],\n",
       " [3, 5, 4, 2, 1, 0],\n",
       " [4, 0, 3, 2, 5, 1],\n",
       " [0, 1, 2, 4, 5, 3],\n",
       " [1, 3, 0, 5, 4, 2],\n",
       " [2, 4, 5, 3, 1, 0],\n",
       " [2, 5, 0, 1, 4, 3],\n",
       " [1, 3, 4, 0, 2, 5],\n",
       " [4, 1, 3, 5, 2, 0],\n",
       " [3, 1, 5, 4, 0, 2],\n",
       " [5, 0, 1, 2, 3, 4],\n",
       " [3, 2, 4, 1, 0, 5],\n",
       " [0, 4, 3, 5, 2, 1],\n",
       " [4, 2, 0, 3, 5, 1],\n",
       " [0, 3, 2, 1, 5, 4],\n",
       " [2, 5, 1, 4, 3, 0],\n",
       " [3, 1, 5, 0, 4, 2],\n",
       " [4, 5, 2, 0, 1, 3],\n",
       " [5, 3, 0, 2, 4, 1]]"
      ]
     },
     "execution_count": 3,
     "metadata": {},
     "output_type": "execute_result"
    }
   ],
   "source": [
    "from minimal_effects_randomizer import meRandomize\n",
    "import numpy as np\n",
    "\n",
    "# 50 subjects for 6 conditions\n",
    "m = 50\n",
    "n = 6\n",
    "\n",
    "draws = meRandomize(m,n)\n",
    "\n",
    "# Test if subsequent condition appear equally as often\n",
    "draws_sequence = np.zeros([n,n])\n",
    "for draw in draws:\n",
    "\tfor idx in range(len(draw)):\n",
    "\t\tdraws_sequence[draw[idx-1 if idx>0 else n-1],draw[idx]] += 1\n",
    "\n",
    "        \n",
    "# Test if each condition appears at each postion equally as often\n",
    "draws_position = np.zeros([n,n])\n",
    "for idx in range(n):\n",
    "\tuni, count = np.unique(np.array(draws)[:,idx],return_counts=True)\n",
    "\tdraws_position[uni,idx] = count\n",
    "\n",
    "print('In sequence:')\n",
    "print(draws_sequence)\n",
    "print()\n",
    "print('In position:')\n",
    "print(draws_position)\n",
    "print()\n",
    "draws"
   ]
  }
 ],
 "metadata": {
  "kernelspec": {
   "display_name": "Python 3",
   "language": "python",
   "name": "python3"
  },
  "language_info": {
   "codemirror_mode": {
    "name": "ipython",
    "version": 3
   },
   "file_extension": ".py",
   "mimetype": "text/x-python",
   "name": "python",
   "nbconvert_exporter": "python",
   "pygments_lexer": "ipython3",
   "version": "3.6.8"
  }
 },
 "nbformat": 4,
 "nbformat_minor": 2
}
